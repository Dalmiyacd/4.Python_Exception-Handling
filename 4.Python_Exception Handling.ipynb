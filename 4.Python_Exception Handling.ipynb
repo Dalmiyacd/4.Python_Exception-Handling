{
 "cells": [
  {
   "cell_type": "code",
   "execution_count": 1,
   "metadata": {},
   "outputs": [],
   "source": [
    "# if we dnt use the try and except, this is how the error look like"
   ]
  },
  {
   "cell_type": "code",
   "execution_count": 2,
   "metadata": {},
   "outputs": [
    {
     "name": "stdout",
     "output_type": "stream",
     "text": [
      "10.0\n",
      "5.0\n"
     ]
    },
    {
     "ename": "ZeroDivisionError",
     "evalue": "division by zero",
     "output_type": "error",
     "traceback": [
      "\u001b[1;31m---------------------------------------------------------------------------\u001b[0m",
      "\u001b[1;31mZeroDivisionError\u001b[0m                         Traceback (most recent call last)",
      "\u001b[1;32m<ipython-input-2-f66634950a2c>\u001b[0m in \u001b[0;36m<module>\u001b[1;34m\u001b[0m\n\u001b[0;32m      1\u001b[0m \u001b[0mnum\u001b[0m \u001b[1;33m=\u001b[0m \u001b[1;36m10\u001b[0m\u001b[1;33m\u001b[0m\u001b[1;33m\u001b[0m\u001b[0m\n\u001b[0;32m      2\u001b[0m \u001b[1;32mfor\u001b[0m \u001b[0mi\u001b[0m \u001b[1;32min\u001b[0m \u001b[1;33m[\u001b[0m\u001b[1;36m1\u001b[0m \u001b[1;33m,\u001b[0m \u001b[1;36m2\u001b[0m \u001b[1;33m,\u001b[0m \u001b[1;36m0\u001b[0m\u001b[1;33m,\u001b[0m \u001b[1;36m3\u001b[0m \u001b[1;33m,\u001b[0m \u001b[1;36m4\u001b[0m\u001b[1;33m]\u001b[0m\u001b[1;33m:\u001b[0m\u001b[1;33m\u001b[0m\u001b[1;33m\u001b[0m\u001b[0m\n\u001b[1;32m----> 3\u001b[1;33m     \u001b[0mprint\u001b[0m\u001b[1;33m(\u001b[0m\u001b[0mnum\u001b[0m\u001b[1;33m/\u001b[0m\u001b[0mi\u001b[0m\u001b[1;33m)\u001b[0m\u001b[1;33m\u001b[0m\u001b[1;33m\u001b[0m\u001b[0m\n\u001b[0m",
      "\u001b[1;31mZeroDivisionError\u001b[0m: division by zero"
     ]
    }
   ],
   "source": [
    "num = 10\n",
    "for i in [1 , 2 , 0, 3 , 4]:\n",
    "    print(num/i)\n"
   ]
  },
  {
   "cell_type": "code",
   "execution_count": null,
   "metadata": {},
   "outputs": [],
   "source": [
    "#when we use try and except , this is how the error look like and it help to know where the error has happen "
   ]
  },
  {
   "cell_type": "code",
   "execution_count": 3,
   "metadata": {},
   "outputs": [
    {
     "name": "stdout",
     "output_type": "stream",
     "text": [
      "10.0\n",
      "5.0\n",
      "Error handled\n"
     ]
    }
   ],
   "source": [
    "num = 10\n",
    "try:\n",
    "    for i in [1 , 2 , 0, 3 , 4]:\n",
    "        print(num/i)\n",
    "except:\n",
    "    print('Error handled')"
   ]
  },
  {
   "cell_type": "code",
   "execution_count": 4,
   "metadata": {},
   "outputs": [],
   "source": [
    "# to handle differnt error differently we can specify the error in 'except'"
   ]
  },
  {
   "cell_type": "code",
   "execution_count": 5,
   "metadata": {},
   "outputs": [
    {
     "ename": "SyntaxError",
     "evalue": "unexpected EOF while parsing (<ipython-input-5-d506a8edef39>, line 10)",
     "output_type": "error",
     "traceback": [
      "\u001b[1;36m  File \u001b[1;32m\"<ipython-input-5-d506a8edef39>\"\u001b[1;36m, line \u001b[1;32m10\u001b[0m\n\u001b[1;33m    # this except is used if there is any other type of error happen\u001b[0m\n\u001b[1;37m                                                                    ^\u001b[0m\n\u001b[1;31mSyntaxError\u001b[0m\u001b[1;31m:\u001b[0m unexpected EOF while parsing\n"
     ]
    }
   ],
   "source": [
    "num = 10\n",
    "try:\n",
    "    for i in [1 , 2 , 0, 3 , 4]:\n",
    "        print(num/i)\n",
    "except ZeroDivisionError:\n",
    "    print('Zero Error handled')\n",
    "except NameError:\n",
    "    print('Name Error handled')\n",
    "except:\n",
    "# this except is used if there is any other type of error happen"
   ]
  },
  {
   "cell_type": "code",
   "execution_count": 6,
   "metadata": {},
   "outputs": [
    {
     "name": "stdout",
     "output_type": "stream",
     "text": [
      "Name Error handled\n"
     ]
    }
   ],
   "source": [
    "\n",
    "num = 10\n",
    "try:\n",
    "    for i in [1 , 2 , 0, 3 , 4]:\n",
    "        print(num2/i)\n",
    "except ZeroDivisionError:\n",
    "    print('Zero Error handled')\n",
    "except NameError:\n",
    "    print('Name Error handled')"
   ]
  },
  {
   "cell_type": "code",
   "execution_count": null,
   "metadata": {},
   "outputs": [],
   "source": []
  },
  {
   "cell_type": "markdown",
   "metadata": {},
   "source": [
    "### using finally ###"
   ]
  },
  {
   "cell_type": "code",
   "execution_count": 7,
   "metadata": {},
   "outputs": [
    {
     "name": "stdout",
     "output_type": "stream",
     "text": [
      "in try block\n",
      "in finally\n"
     ]
    }
   ],
   "source": [
    "num = 10\n",
    "try:\n",
    "    print('in try block')\n",
    "except:\n",
    "    print('in except block')\n",
    "finally:\n",
    "    print('in finally') \n",
    "# in this case as there is no chance of getting an error it will not go to except block"
   ]
  },
  {
   "cell_type": "code",
   "execution_count": null,
   "metadata": {},
   "outputs": [],
   "source": []
  },
  {
   "cell_type": "code",
   "execution_count": 8,
   "metadata": {},
   "outputs": [
    {
     "name": "stdout",
     "output_type": "stream",
     "text": [
      "in try block\n",
      "in except block\n",
      "in finally\n"
     ]
    }
   ],
   "source": [
    "num = 10\n",
    "try:\n",
    "    print('in try block')\n",
    "    print(10/0)\n",
    "except:\n",
    "    print('in except block')\n",
    "finally:\n",
    "    print('in finally') \n",
    "# in this case as there is an error it will go to except block"
   ]
  },
  {
   "cell_type": "code",
   "execution_count": null,
   "metadata": {},
   "outputs": [],
   "source": []
  },
  {
   "cell_type": "code",
   "execution_count": null,
   "metadata": {},
   "outputs": [],
   "source": [
    "num = 10\n",
    "try:\n",
    "    print('in try block')\n",
    "    print(10/0)\n",
    "except NameError:\n",
    "    print('in except block')\n",
    "finally:\n",
    "    print('in finally') \n",
    "# in this case as there is an ZeroDivisionError, but handled NameError it will go to except block"
   ]
  }
 ],
 "metadata": {
  "kernelspec": {
   "display_name": "Python 3",
   "language": "python",
   "name": "python3"
  },
  "language_info": {
   "codemirror_mode": {
    "name": "ipython",
    "version": 3
   },
   "file_extension": ".py",
   "mimetype": "text/x-python",
   "name": "python",
   "nbconvert_exporter": "python",
   "pygments_lexer": "ipython3",
   "version": "3.8.8"
  }
 },
 "nbformat": 4,
 "nbformat_minor": 4
}
